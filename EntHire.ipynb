{
  "nbformat": 4,
  "nbformat_minor": 0,
  "metadata": {
    "colab": {
      "name": "EntHire.ipynb",
      "provenance": [],
      "collapsed_sections": []
    },
    "kernelspec": {
      "name": "python3",
      "display_name": "Python 3"
    },
    "language_info": {
      "name": "python"
    }
  },
  "cells": [
    {
      "cell_type": "code",
      "metadata": {
        "id": "5gQC-r_bvKnH"
      },
      "source": [
        "import numpy as np\n",
        "import matplotlib.pyplot as plt\n",
        "import torch\n",
        "import torchvision\n",
        "from torch import nn\n",
        "import os\n",
        "import pandas as pd\n",
        "from sklearn.ensemble import RandomForestClassifier\n",
        "from sklearn.metrics import f1_score, roc_auc_score\n",
        "from sklearn.ensemble import ExtraTreesClassifier, AdaBoostClassifier\n",
        "from sklearn import svm\n",
        "from sklearn.tree import DecisionTreeClassifier\n",
        "from sklearn.linear_model import LogisticRegression\n",
        "import numpy as np\n",
        "import re\n",
        "import nltk.data\n",
        "from nltk.corpus import stopwords, wordnet\n",
        "from textblob import TextBlob\n",
        "from math import log\n",
        "import string\n",
        "from statistics import mean\n",
        "from random import shuffle"
      ],
      "execution_count": null,
      "outputs": []
    },
    {
      "cell_type": "code",
      "metadata": {
        "colab": {
          "base_uri": "https://localhost:8080/"
        },
        "id": "O81ujAZCvhVa",
        "outputId": "6cce860b-fe14-47e3-beff-790e79cc5699"
      },
      "source": [
        "from google.colab import drive\n",
        "drive.mount('/content/drive')"
      ],
      "execution_count": null,
      "outputs": [
        {
          "output_type": "stream",
          "text": [
            "Mounted at /content/drive\n"
          ],
          "name": "stdout"
        }
      ]
    },
    {
      "cell_type": "code",
      "metadata": {
        "id": "0gUaPF7Av4FH"
      },
      "source": [
        "train=pd.read_csv('/content/drive/MyDrive/airline_sentiment_analysis.csv')"
      ],
      "execution_count": null,
      "outputs": []
    },
    {
      "cell_type": "code",
      "metadata": {
        "colab": {
          "base_uri": "https://localhost:8080/",
          "height": 424
        },
        "id": "F88rgOEdwgwE",
        "outputId": "d76c89a0-45ca-42dc-d93e-8d07a739f11a"
      },
      "source": [
        "train"
      ],
      "execution_count": null,
      "outputs": [
        {
          "output_type": "execute_result",
          "data": {
            "text/html": [
              "<div>\n",
              "<style scoped>\n",
              "    .dataframe tbody tr th:only-of-type {\n",
              "        vertical-align: middle;\n",
              "    }\n",
              "\n",
              "    .dataframe tbody tr th {\n",
              "        vertical-align: top;\n",
              "    }\n",
              "\n",
              "    .dataframe thead th {\n",
              "        text-align: right;\n",
              "    }\n",
              "</style>\n",
              "<table border=\"1\" class=\"dataframe\">\n",
              "  <thead>\n",
              "    <tr style=\"text-align: right;\">\n",
              "      <th></th>\n",
              "      <th>Unnamed: 0</th>\n",
              "      <th>airline_sentiment</th>\n",
              "      <th>text</th>\n",
              "    </tr>\n",
              "  </thead>\n",
              "  <tbody>\n",
              "    <tr>\n",
              "      <th>0</th>\n",
              "      <td>1</td>\n",
              "      <td>positive</td>\n",
              "      <td>@VirginAmerica plus you've added commercials t...</td>\n",
              "    </tr>\n",
              "    <tr>\n",
              "      <th>1</th>\n",
              "      <td>3</td>\n",
              "      <td>negative</td>\n",
              "      <td>@VirginAmerica it's really aggressive to blast...</td>\n",
              "    </tr>\n",
              "    <tr>\n",
              "      <th>2</th>\n",
              "      <td>4</td>\n",
              "      <td>negative</td>\n",
              "      <td>@VirginAmerica and it's a really big bad thing...</td>\n",
              "    </tr>\n",
              "    <tr>\n",
              "      <th>3</th>\n",
              "      <td>5</td>\n",
              "      <td>negative</td>\n",
              "      <td>@VirginAmerica seriously would pay $30 a fligh...</td>\n",
              "    </tr>\n",
              "    <tr>\n",
              "      <th>4</th>\n",
              "      <td>6</td>\n",
              "      <td>positive</td>\n",
              "      <td>@VirginAmerica yes, nearly every time I fly VX...</td>\n",
              "    </tr>\n",
              "    <tr>\n",
              "      <th>...</th>\n",
              "      <td>...</td>\n",
              "      <td>...</td>\n",
              "      <td>...</td>\n",
              "    </tr>\n",
              "    <tr>\n",
              "      <th>11536</th>\n",
              "      <td>14633</td>\n",
              "      <td>negative</td>\n",
              "      <td>@AmericanAir my flight was Cancelled Flightled...</td>\n",
              "    </tr>\n",
              "    <tr>\n",
              "      <th>11537</th>\n",
              "      <td>14634</td>\n",
              "      <td>negative</td>\n",
              "      <td>@AmericanAir right on cue with the delays👌</td>\n",
              "    </tr>\n",
              "    <tr>\n",
              "      <th>11538</th>\n",
              "      <td>14635</td>\n",
              "      <td>positive</td>\n",
              "      <td>@AmericanAir thank you we got on a different f...</td>\n",
              "    </tr>\n",
              "    <tr>\n",
              "      <th>11539</th>\n",
              "      <td>14636</td>\n",
              "      <td>negative</td>\n",
              "      <td>@AmericanAir leaving over 20 minutes Late Flig...</td>\n",
              "    </tr>\n",
              "    <tr>\n",
              "      <th>11540</th>\n",
              "      <td>14638</td>\n",
              "      <td>negative</td>\n",
              "      <td>@AmericanAir you have my money, you change my ...</td>\n",
              "    </tr>\n",
              "  </tbody>\n",
              "</table>\n",
              "<p>11541 rows × 3 columns</p>\n",
              "</div>"
            ],
            "text/plain": [
              "       Unnamed: 0  ...                                               text\n",
              "0               1  ...  @VirginAmerica plus you've added commercials t...\n",
              "1               3  ...  @VirginAmerica it's really aggressive to blast...\n",
              "2               4  ...  @VirginAmerica and it's a really big bad thing...\n",
              "3               5  ...  @VirginAmerica seriously would pay $30 a fligh...\n",
              "4               6  ...  @VirginAmerica yes, nearly every time I fly VX...\n",
              "...           ...  ...                                                ...\n",
              "11536       14633  ...  @AmericanAir my flight was Cancelled Flightled...\n",
              "11537       14634  ...         @AmericanAir right on cue with the delays👌\n",
              "11538       14635  ...  @AmericanAir thank you we got on a different f...\n",
              "11539       14636  ...  @AmericanAir leaving over 20 minutes Late Flig...\n",
              "11540       14638  ...  @AmericanAir you have my money, you change my ...\n",
              "\n",
              "[11541 rows x 3 columns]"
            ]
          },
          "metadata": {
            "tags": []
          },
          "execution_count": 4
        }
      ]
    },
    {
      "cell_type": "code",
      "metadata": {
        "id": "sdcY_0lK6doG",
        "colab": {
          "base_uri": "https://localhost:8080/"
        },
        "outputId": "5282c3e6-8da0-4f0d-837c-b821289b571d"
      },
      "source": [
        "nltk.download([\n",
        "\"stopwords\",\n",
        "\"vader_lexicon\",\n",
        "\"punkt\",\n",
        "'wordnet'\n",
        "])"
      ],
      "execution_count": null,
      "outputs": [
        {
          "output_type": "stream",
          "text": [
            "[nltk_data] Downloading package stopwords to /root/nltk_data...\n",
            "[nltk_data]   Unzipping corpora/stopwords.zip.\n",
            "[nltk_data] Downloading package vader_lexicon to /root/nltk_data...\n",
            "[nltk_data] Downloading package punkt to /root/nltk_data...\n",
            "[nltk_data]   Unzipping tokenizers/punkt.zip.\n",
            "[nltk_data] Downloading package wordnet to /root/nltk_data...\n",
            "[nltk_data]   Unzipping corpora/wordnet.zip.\n"
          ],
          "name": "stdout"
        },
        {
          "output_type": "execute_result",
          "data": {
            "text/plain": [
              "True"
            ]
          },
          "metadata": {
            "tags": []
          },
          "execution_count": 5
        }
      ]
    },
    {
      "cell_type": "code",
      "metadata": {
        "colab": {
          "base_uri": "https://localhost:8080/"
        },
        "id": "5ZZbEvLg6n9v",
        "outputId": "1c6d4e8e-acee-4c5d-f84e-8e352f23d590"
      },
      "source": [
        "from nltk.sentiment import SentimentIntensityAnalyzer\n",
        "sia = SentimentIntensityAnalyzer()"
      ],
      "execution_count": null,
      "outputs": [
        {
          "output_type": "stream",
          "text": [
            "/usr/local/lib/python3.7/dist-packages/nltk/twitter/__init__.py:20: UserWarning: The twython library has not been installed. Some functionality from the twitter package will not be available.\n",
            "  warnings.warn(\"The twython library has not been installed. \"\n"
          ],
          "name": "stderr"
        }
      ]
    },
    {
      "cell_type": "markdown",
      "metadata": {
        "id": "aSwdmCSCkkdd"
      },
      "source": [
        "Sentiment analysis using Vader with no Preprocessing"
      ]
    },
    {
      "cell_type": "code",
      "metadata": {
        "colab": {
          "base_uri": "https://localhost:8080/"
        },
        "id": "XjmqPdEHY6Zk",
        "outputId": "c32f93ad-7b48-4172-c704-54ad0ba50bc9"
      },
      "source": [
        "from nltk.sentiment import SentimentIntensityAnalyzer\n",
        "sia = SentimentIntensityAnalyzer()\n",
        "predict=[]\n",
        "for i in range(len(train[\"text\"])):\n",
        "  scores=sia.polarity_scores(train[\"text\"][i])\n",
        "  if(scores['pos']>=scores['neg']):\n",
        "    predict.append(1)\n",
        "  else:\n",
        "    predict.append(0)\n",
        "y=(train['airline_sentiment']=='positive')*1\n",
        "print(\"Accuracy: \", sum(predict==y)/len(predict), \" and F1 Score: \",f1_score(predict,y))"
      ],
      "execution_count": null,
      "outputs": [
        {
          "output_type": "stream",
          "text": [
            "/usr/local/lib/python3.7/dist-packages/nltk/twitter/__init__.py:20: UserWarning: The twython library has not been installed. Some functionality from the twitter package will not be available.\n",
            "  warnings.warn(\"The twython library has not been installed. \"\n"
          ],
          "name": "stderr"
        },
        {
          "output_type": "stream",
          "text": [
            "Accuracy:  0.59986136383329  and F1 Score:  0.4958515283842795\n"
          ],
          "name": "stdout"
        }
      ]
    },
    {
      "cell_type": "markdown",
      "metadata": {
        "id": "DXHpDqJ4lLvK"
      },
      "source": [
        "Preprocessing"
      ]
    },
    {
      "cell_type": "code",
      "metadata": {
        "id": "vc2nV8dS6bW9"
      },
      "source": [
        "y=(train['airline_sentiment']=='positive')*1"
      ],
      "execution_count": null,
      "outputs": []
    },
    {
      "cell_type": "code",
      "metadata": {
        "id": "SrfsdfXC_MbO"
      },
      "source": [
        "words = open(\"/content/drive/MyDrive/words-by-frequency.txt\").read().split()\n",
        "wordcost = dict((k, log((i+1)*log(len(words)))) for i,k in enumerate(words))\n",
        "maxword = max(len(x) for x in words)\n",
        "\n",
        "def infer_spaces(s):\n",
        "    \"\"\"Uses dynamic programming to infer the location of spaces in a string\n",
        "    without spaces.\"\"\"\n",
        "\n",
        "    # Find the best match for the i first characters, assuming cost has\n",
        "    # been built for the i-1 first characters.\n",
        "    # Returns a pair (match_cost, match_length).\n",
        "    def best_match(i):\n",
        "        candidates = enumerate(reversed(cost[max(0, i-maxword):i]))\n",
        "        return min((c + wordcost.get(s[i-k-1:i], 9e999), k+1) for k,c in candidates)\n",
        "\n",
        "    # Build the cost array.\n",
        "    cost = [0]\n",
        "    for i in range(1,len(s)+1):\n",
        "        c,k = best_match(i)\n",
        "        cost.append(c)\n",
        "\n",
        "    # Backtrack to recover the minimal-cost string.\n",
        "    out = []\n",
        "    i = len(s)\n",
        "    while i>0:\n",
        "        c,k = best_match(i)\n",
        "        assert c == cost[i]\n",
        "        out.append(s[i-k:i])\n",
        "        i -= k\n",
        "\n",
        "    return list(reversed(out))"
      ],
      "execution_count": null,
      "outputs": []
    },
    {
      "cell_type": "code",
      "metadata": {
        "colab": {
          "base_uri": "https://localhost:8080/"
        },
        "id": "3ysdL4IMqo1T",
        "outputId": "87b2fe03-17d5-4dd4-f99b-39dd30c5ca24"
      },
      "source": [
        "pip install symspellpy"
      ],
      "execution_count": null,
      "outputs": [
        {
          "output_type": "stream",
          "text": [
            "Collecting symspellpy\n",
            "  Downloading symspellpy-6.7.0-py3-none-any.whl (2.6 MB)\n",
            "\u001b[K     |████████████████████████████████| 2.6 MB 35.2 MB/s \n",
            "\u001b[?25hRequirement already satisfied: numpy>=1.13.1 in /usr/local/lib/python3.7/dist-packages (from symspellpy) (1.19.5)\n",
            "Installing collected packages: symspellpy\n",
            "Successfully installed symspellpy-6.7.0\n"
          ],
          "name": "stdout"
        }
      ]
    },
    {
      "cell_type": "code",
      "metadata": {
        "colab": {
          "base_uri": "https://localhost:8080/"
        },
        "id": "M1B6ZSutqko9",
        "outputId": "442b72cd-997e-4731-fd40-5a3edb0bd965"
      },
      "source": [
        "import pkg_resources\n",
        "from symspellpy import SymSpell, Verbosity\n",
        "sym_spell = SymSpell(max_dictionary_edit_distance=5, prefix_length=7)\n",
        "dictionary_path = pkg_resources.resource_filename(\n",
        "    \"symspellpy\", \"frequency_dictionary_en_82_765.txt\")\n",
        "bigram_path = pkg_resources.resource_filename(\n",
        "    \"symspellpy\", \"frequency_bigramdictionary_en_243_342.txt\")\n",
        "sym_spell.load_dictionary(dictionary_path, term_index=0, count_index=1)\n",
        "sym_spell.load_bigram_dictionary(bigram_path, term_index=0, count_index=2)"
      ],
      "execution_count": null,
      "outputs": [
        {
          "output_type": "execute_result",
          "data": {
            "text/plain": [
              "True"
            ]
          },
          "metadata": {
            "tags": []
          },
          "execution_count": 8
        }
      ]
    },
    {
      "cell_type": "code",
      "metadata": {
        "colab": {
          "base_uri": "https://localhost:8080/"
        },
        "id": "BbFowZR7EuO4",
        "outputId": "a6f49db5-8f47-4054-ac32-afd2b174bd32"
      },
      "source": [
        "pip install emot"
      ],
      "execution_count": null,
      "outputs": [
        {
          "output_type": "stream",
          "text": [
            "Collecting emot\n",
            "  Downloading emot-2.1-py3-none-any.whl (27 kB)\n",
            "Installing collected packages: emot\n",
            "Successfully installed emot-2.1\n"
          ],
          "name": "stdout"
        }
      ]
    },
    {
      "cell_type": "code",
      "metadata": {
        "id": "UuVn1FMCEyEj"
      },
      "source": [
        "from emot.emo_unicode import UNICODE_EMO, EMOTICONS"
      ],
      "execution_count": null,
      "outputs": []
    },
    {
      "cell_type": "code",
      "metadata": {
        "id": "C-WUQgyRE2d9"
      },
      "source": [
        "def convert_emojis(text):\n",
        "    for emot in UNICODE_EMO:\n",
        "        text = text.replace(emot, \"_\".join(UNICODE_EMO[emot].replace(\",\",\"\").replace(\":\",\"\").split()))\n",
        "    for emot in EMOTICONS:\n",
        "        text = re.sub(u'('+emot+')', \"_\".join(EMOTICONS[emot].replace(\",\",\"\").split()), text)\n",
        "    return text"
      ],
      "execution_count": null,
      "outputs": []
    },
    {
      "cell_type": "code",
      "metadata": {
        "id": "VjSbn_XC5Mwa",
        "colab": {
          "base_uri": "https://localhost:8080/"
        },
        "outputId": "00705d3a-78df-48cc-8d36-6e862b13f2ae"
      },
      "source": [
        "class ProcessText():\n",
        "\n",
        "  def SentenceSegmentation(self, text):\n",
        "    tokenizer_punkt = nltk.data.load('tokenizers/punkt/english.pickle')\n",
        "    segmentedText = tokenizer_punkt.tokenize(text.strip())\n",
        "    return segmentedText\n",
        "\n",
        "  def Tokenization(self, text):\n",
        "      tokenizedText = []\n",
        "      # APPOSTOPHES = {\"'s\" : \"is\", \"'re\" : \"are\", \"'t\": \" not\", \"'ve\": \"have\", \"cause\": \"because\", \"'d\": \"would\", \"'ll\": \"will\"} \n",
        "      p_t = nltk.tokenize.treebank.TreebankWordTokenizer()\n",
        "      for i in text:\n",
        "          text_raw_token = p_t.tokenize(i)\n",
        "          for j in text_raw_token :\n",
        "              if (j == \"\") or (j in string.punctuation):\n",
        "                  continue\n",
        "              tokenizedText.append(j)\n",
        "      return tokenizedText\n",
        "  \n",
        "  def StopwordRemoval(self, text):\n",
        "    stopwordRemovedText = None\n",
        "    stop_words = set(stopwords.words('english')) \n",
        "    stopwordRemovedText = [j for j in text if not j in stop_words and len(j)>2]\n",
        "    if(len(stopwordRemovedText)>0):\n",
        "      return stopwordRemovedText\n",
        "    else:\n",
        "      return text\n",
        "\n",
        "  def InflectionReduction(self,text):\n",
        "    lem = nltk.stem.wordnet.WordNetLemmatizer()\n",
        "    reducedText = [lem.lemmatize(lem.lemmatize(j,'n'),'v') for j in text]\n",
        "    return reducedText\n",
        "\n",
        "  def process(self,texts):\n",
        "    ptw=[]\n",
        "    pts=[]\n",
        "    for text in texts:\n",
        "      emojiless=convert_emojis(text) #Converts Emojis into text\n",
        "      linkless=re.sub(r'http\\S+', '', emojiless) #Removes links\n",
        "      d=re.sub(r'@\\S+','',linkless) #Removes name\n",
        "      # d = str(sym_spell.lookup_compound(d, max_edit_distance=2)[0])[:-6] # Spelling Correction\n",
        "      d=self.SentenceSegmentation(str(d).lower()) #Sentence Segmentation\n",
        "      for i in range(len(d)):\n",
        "        for char in d[i]:\n",
        "          if char ==\"_\":\n",
        "            d[i]=d[i].replace(char,' ')\n",
        "          elif not char.isalpha():\n",
        "            d[i]=d[i].replace(char,' ')\n",
        "          else:\n",
        "            d[i]=d[i]\n",
        "      d1=self.Tokenization(d)\n",
        "      d2=[]\n",
        "      for i in range(len(d1)):\n",
        "        d2=d2+(infer_spaces(d1[i]))\n",
        "      for i in range(len(d2)):\n",
        "        d2[i]=str(sym_spell.lookup(d2[i], Verbosity.CLOSEST, max_edit_distance=5,include_unknown=True)[0]).split(\",\")[0]\n",
        "      d2=self.StopwordRemoval(d2)\n",
        "      d3=self.InflectionReduction(d2)\n",
        "      d4=' '.join(d3)\n",
        "      ptw.append(d3)\n",
        "      pts.append(d4)\n",
        "    return ptw,pts\n",
        "ptf=ProcessText()\n",
        "print(ptf.process(train['text'][11:12]))"
      ],
      "execution_count": null,
      "outputs": [
        {
          "output_type": "stream",
          "text": [
            "([['great', 'dismay', 'schedule', 'still', 'mia']], ['great dismay schedule still mia'])\n"
          ],
          "name": "stdout"
        }
      ]
    },
    {
      "cell_type": "code",
      "metadata": {
        "id": "HWYpnRg0RHqW"
      },
      "source": [
        "ptf=ProcessText()\n",
        "x1,x2=ptf.process(train['text'])\n",
        "word_list=list(set([word for text in x1 for word in text]))"
      ],
      "execution_count": null,
      "outputs": []
    },
    {
      "cell_type": "code",
      "metadata": {
        "colab": {
          "base_uri": "https://localhost:8080/"
        },
        "id": "BmzO4P3FJNWw",
        "outputId": "b6f3d234-5d5b-41a7-ec29-793f795a528e"
      },
      "source": [
        "len(word_list)"
      ],
      "execution_count": null,
      "outputs": [
        {
          "output_type": "execute_result",
          "data": {
            "text/plain": [
              "5538"
            ]
          },
          "metadata": {
            "tags": []
          },
          "execution_count": 14
        }
      ]
    },
    {
      "cell_type": "code",
      "metadata": {
        "id": "d_Dy7H4lwRzy"
      },
      "source": [
        "poslist=[]\n",
        "neglist=[]\n",
        "for i in range(len(y)):\n",
        "  for sentence in nltk.sent_tokenize(str(train['text'][i])):\n",
        "    for word in nltk.word_tokenize(sentence):\n",
        "      if(y[i]==1):\n",
        "        poslist.append(word)\n",
        "      else:\n",
        "        neglist.append(word)"
      ],
      "execution_count": null,
      "outputs": []
    },
    {
      "cell_type": "code",
      "metadata": {
        "id": "4hA0ADmByjUT"
      },
      "source": [
        "positive_words = [word for sent in poslist for word in sent]\n",
        "negative_words = [word for sent in neglist for word in sent]"
      ],
      "execution_count": null,
      "outputs": []
    },
    {
      "cell_type": "code",
      "metadata": {
        "id": "05TiKli4yjUU"
      },
      "source": [
        "positive_fd = nltk.FreqDist(positive_words)\n",
        "negative_fd = nltk.FreqDist(negative_words)\n",
        "\n",
        "common_set = set(positive_fd).intersection(negative_fd)\n",
        "\n",
        "for word in common_set:\n",
        "    del positive_fd[word]\n",
        "    del negative_fd[word]\n",
        "\n",
        "top_100_positive = {word for word, count in positive_fd.most_common(100)}\n",
        "top_100_negative = {word for word, count in negative_fd.most_common(100)}"
      ],
      "execution_count": null,
      "outputs": []
    },
    {
      "cell_type": "code",
      "metadata": {
        "id": "9cpHtQNq_GUk"
      },
      "source": [
        "def extract_features(text):\n",
        "    wordcount = 0\n",
        "    compound_scores = list()\n",
        "    positive_scores = list()\n",
        "\n",
        "    for sentence in nltk.sent_tokenize(text):\n",
        "        for word in nltk.word_tokenize(sentence):\n",
        "            if word.lower() in top_100_positive:\n",
        "                wordcount += 1\n",
        "        compound_scores.append(sia.polarity_scores(sentence)[\"compound\"])\n",
        "        positive_scores.append(sia.polarity_scores(sentence)[\"pos\"])\n",
        "\n",
        "    # Adding 1 to the final compound score to always have positive numbers\n",
        "    # since some classifiers you'll use later don't work with negative numbers.\n",
        "    features=[mean(compound_scores) + 1, mean(positive_scores),wordcount]\n",
        "\n",
        "    return features"
      ],
      "execution_count": null,
      "outputs": []
    },
    {
      "cell_type": "code",
      "metadata": {
        "id": "CfsW1ip1-mCz"
      },
      "source": [
        "xtrain = np.zeros((len(y),3))\n",
        "for i in range(len(y)):\n",
        "  xtrain[i]=extract_features(str(train['text'][i])) "
      ],
      "execution_count": null,
      "outputs": []
    },
    {
      "cell_type": "code",
      "metadata": {
        "id": "36YiGzYL-ZOM"
      },
      "source": [
        "def lossfunct(output,target):\n",
        "    ln=(target==0).sum()\n",
        "    lp=(target==1).sum()\n",
        "    fp=((output==target) & (target==1)).sum()\n",
        "    fn=((output==target) & (target==0)).sum()\n",
        "    loss=(4*fp+fn)/(4*lp+ln)\n",
        "    return loss"
      ],
      "execution_count": null,
      "outputs": []
    },
    {
      "cell_type": "code",
      "metadata": {
        "id": "Su_GKj9LBqnD"
      },
      "source": [
        "classifiers = {\n",
        "    \"KNeighborsClassifier\": KNeighborsClassifier(),\n",
        "    \"DecisionTreeClassifier\": DecisionTreeClassifier(),\n",
        "    \"RandomForestClassifier\": RandomForestClassifier(),\n",
        "    \"LogisticRegression\": LogisticRegression(),\n",
        "    \"MLPClassifier\": MLPClassifier(max_iter=2000),\n",
        "    \"AdaBoostClassifier\": AdaBoostClassifier(),\n",
        "}"
      ],
      "execution_count": null,
      "outputs": []
    },
    {
      "cell_type": "code",
      "metadata": {
        "colab": {
          "base_uri": "https://localhost:8080/"
        },
        "id": "XQw2AJBD-aBW",
        "outputId": "38e07c26-9e92-4548-8499-febd9179e9cf"
      },
      "source": [
        "from sklearn.neighbors import KNeighborsClassifier\n",
        "from sklearn.tree import DecisionTreeClassifier\n",
        "from sklearn.ensemble import RandomForestClassifier, AdaBoostClassifier\n",
        "from sklearn.linear_model import LogisticRegression\n",
        "from sklearn.neural_network import MLPClassifier\n",
        "from sklearn.discriminant_analysis import QuadraticDiscriminantAnalysis\n",
        "from sklearn.model_selection import KFold\n",
        "for name, sklearn_classifier in classifiers.items():SklearnClassifier' object has no attribute 'test'\n",
        "  kf = KFold(n_splits=5)\n",
        "  accuracy = 0\n",
        "  fscore = 0\n",
        "  roc=0\n",
        "  for train_index, test_index in kf.split(xtrain):\n",
        "      X_train, X_test = xtrain[train_index], xtrain[test_index]\n",
        "      y_train, y_test = y[train_index], y[test_index]\n",
        "      model = sklearn_classifier\n",
        "      model.fit(X_train,y_train)\n",
        "      y_pred = model.predict(X_test)\n",
        "      accuracy += lossfunct(y_pred, y_test)\n",
        "      fscore += f1_score(y_pred, y_test)\n",
        "      roc+=roc_auc_score(y_pred,y_test)\n",
        "  print(name,\" Accuracy: \",accuracy/5, \"F-score: \", fscore/5,\"ROC_AUC:\", roc/5)"
      ],
      "execution_count": null,
      "outputs": [
        {
          "output_type": "stream",
          "text": [
            "KNeighborsClassifier  Accuracy:  0.7482099404934555 F-score:  0.6007362932864767 ROC_AUC: 0.7725242541726699\n",
            "DecisionTreeClassifier  Accuracy:  0.7331668657903863 F-score:  0.5649427784302745 ROC_AUC: 0.7385016851046163\n",
            "RandomForestClassifier  Accuracy:  0.7560592364590673 F-score:  0.6136647171487857 ROC_AUC: 0.7758721197612303\n",
            "LogisticRegression  Accuracy:  0.7338499911449959 F-score:  0.5940924733570749 ROC_AUC: 0.7922164147330049\n",
            "MLPClassifier  Accuracy:  0.7419559794490402 F-score:  0.6065919363199892 ROC_AUC: 0.7956612934318227\n",
            "AdaBoostClassifier  Accuracy:  0.7553569305569834 F-score:  0.6203045822568164 ROC_AUC: 0.7911018679716278\n"
          ],
          "name": "stdout"
        }
      ]
    },
    {
      "cell_type": "code",
      "metadata": {
        "id": "daQwoq9mPj8M"
      },
      "source": [
        "poslist=[]\n",
        "neglist=[]\n",
        "for i in range(len(y)):\n",
        "  if(y[i]==1):\n",
        "    poslist.append(x1[i])\n",
        "  else:\n",
        "    neglist.append(x1[i])"
      ],
      "execution_count": null,
      "outputs": []
    },
    {
      "cell_type": "code",
      "metadata": {
        "id": "bXw-O3ss-iuc"
      },
      "source": [
        "positive_words = [word for sent in poslist for word in sent]\n",
        "negative_words = [word for sent in neglist for word in sent]"
      ],
      "execution_count": null,
      "outputs": []
    },
    {
      "cell_type": "code",
      "metadata": {
        "id": "wyJfcVCb-q9j"
      },
      "source": [
        "positive_fd = nltk.FreqDist(positive_words)\n",
        "negative_fd = nltk.FreqDist(negative_words)\n",
        "\n",
        "common_set = set(positive_fd).intersection(negative_fd)\n",
        "\n",
        "for word in common_set:\n",
        "    del positive_fd[word]\n",
        "    del negative_fd[word]\n",
        "\n",
        "top_100_positive = {word for word, count in positive_fd.most_common(1000)}\n",
        "top_100_negative = {word for word, count in negative_fd.most_common(1000)}"
      ],
      "execution_count": null,
      "outputs": []
    },
    {
      "cell_type": "code",
      "metadata": {
        "id": "P_Geb_jvQPT8"
      },
      "source": [
        "def extract_features(text):\n",
        "    poswordcount = 0\n",
        "    negwordcount = 0\n",
        "    compound_scores = list()\n",
        "    positive_scores = list()\n",
        "    negative_scores = list()\n",
        "    neutral_scores = list()\n",
        "    for sentence in nltk.sent_tokenize(text):\n",
        "        for word in nltk.word_tokenize(sentence):\n",
        "            if word.lower() in top_100_positive:\n",
        "              poswordcount += 1\n",
        "            elif word.lower() in top_100_negative:\n",
        "              negwordcount += 1\n",
        "        compound_scores.append(sia.polarity_scores(sentence)[\"compound\"])\n",
        "        positive_scores.append(sia.polarity_scores(sentence)[\"pos\"])\n",
        "        # negative_scores.append(sia.polarity_scores(sentence)[\"neg\"])\n",
        "        # neutral_scores.append(sia.polarity_scores(sentence)[\"neu\"])\n",
        "    # Adding 1 to the final compound score to always have positive numbers\n",
        "    # since some classifiers you'll use later don't work with negative numbers.\n",
        "    features=[mean(compound_scores) + 1, mean(positive_scores),poswordcount,negwordcount]\n",
        "\n",
        "    return features"
      ],
      "execution_count": 401,
      "outputs": []
    },
    {
      "cell_type": "code",
      "metadata": {
        "id": "n3o_Z0wIDP1d"
      },
      "source": [
        "xtrain = np.zeros((len(y),4))\n",
        "for i in range(len(y)):\n",
        "  xtrain[i]=extract_features(x2[i]) "
      ],
      "execution_count": 402,
      "outputs": []
    },
    {
      "cell_type": "markdown",
      "metadata": {
        "id": "nmD2D0u_NYGE"
      },
      "source": [
        "negcount"
      ]
    },
    {
      "cell_type": "code",
      "metadata": {
        "colab": {
          "base_uri": "https://localhost:8080/"
        },
        "id": "HNMHPHjPNZgL",
        "outputId": "92f685d3-c777-41f9-8bc4-98d9931f7e11"
      },
      "source": [
        "from sklearn.neighbors import KNeighborsClassifier\n",
        "from sklearn.tree import DecisionTreeClassifier\n",
        "from sklearn.ensemble import RandomForestClassifier, AdaBoostClassifier\n",
        "from sklearn.linear_model import LogisticRegression\n",
        "from sklearn.neural_network import MLPClassifier\n",
        "from sklearn.discriminant_analysis import QuadraticDiscriminantAnalysis\n",
        "from sklearn.model_selection import KFold\n",
        "for name, sklearn_classifier in classifiers.items():\n",
        "  kf = KFold(n_splits=5)\n",
        "  accuracy = 0\n",
        "  fscore = 0\n",
        "  roc=0\n",
        "  for train_index, test_index in kf.split(xtrain):\n",
        "      X_train, X_test = xtrain[train_index], xtrain[test_index]\n",
        "      y_train, y_test = y[train_index], y[test_index]\n",
        "      model = sklearn_classifier\n",
        "      model.fit(X_train,y_train)\n",
        "      y_pred = model.predict(X_test)\n",
        "      accuracy += lossfunct(y_pred, y_test)\n",
        "      fscore += f1_score(y_pred, y_test)\n",
        "      roc+=roc_auc_score(y_pred,y_test)\n",
        "  print(name,\" Accuracy: \",accuracy/5, \"F-score: \", fscore/5,\"ROC_AUC:\", roc/5)"
      ],
      "execution_count": 403,
      "outputs": [
        {
          "output_type": "stream",
          "text": [
            "KNeighborsClassifier  Accuracy:  0.8401973347379761 F-score:  0.7476393558346586 ROC_AUC: 0.8521159789247565\n",
            "DecisionTreeClassifier  Accuracy:  0.8283764857318957 F-score:  0.7262229921090215 ROC_AUC: 0.8384798445076476\n",
            "RandomForestClassifier  Accuracy:  0.8419086418638683 F-score:  0.7450842561911377 ROC_AUC: 0.8470407995892879\n",
            "LogisticRegression  Accuracy:  0.8390317314227204 F-score:  0.7485538380051492 ROC_AUC: 0.8556341022189751\n",
            "MLPClassifier  Accuracy:  0.8326320095831494 F-score:  0.7419464059934378 ROC_AUC: 0.8562063784280204\n",
            "AdaBoostClassifier  Accuracy:  0.8461748742264767 F-score:  0.7641032140852542 ROC_AUC: 0.8685353893786438\n"
          ],
          "name": "stdout"
        }
      ]
    },
    {
      "cell_type": "code",
      "metadata": {
        "id": "fXV6krnOKq-w"
      },
      "source": [
        "torch.save(model,'/content/drive/MyDrive/enthirebestmodel.cpkt')"
      ],
      "execution_count": 406,
      "outputs": []
    },
    {
      "cell_type": "markdown",
      "metadata": {
        "id": "A1jvFWMtNWTg"
      },
      "source": [
        "only poscount"
      ]
    },
    {
      "cell_type": "code",
      "metadata": {
        "colab": {
          "base_uri": "https://localhost:8080/"
        },
        "id": "GyUzRY9ZLZz7",
        "outputId": "9ab39f1b-cf86-45ee-d5dd-d9efc4bff00e"
      },
      "source": [
        "from sklearn.neighbors import KNeighborsClassifier\n",
        "from sklearn.tree import DecisionTreeClassifier\n",
        "from sklearn.ensemble import RandomForestClassifier, AdaBoostClassifier\n",
        "from sklearn.linear_model import LogisticRegression\n",
        "from sklearn.neural_network import MLPClassifier\n",
        "from sklearn.discriminant_analysis import QuadraticDiscriminantAnalysis\n",
        "from sklearn.model_selection import KFold\n",
        "for name, sklearn_classifier in classifiers.items():\n",
        "  kf = KFold(n_splits=5)\n",
        "  accuracy = 0\n",
        "  fscore = 0\n",
        "  roc=0\n",
        "  for train_index, test_index in kf.split(xtrain):\n",
        "      X_train, X_test = xtrain[train_index], xtrain[test_index]\n",
        "      y_train, y_test = y[train_index], y[test_index]\n",
        "      model = sklearn_classifier\n",
        "      model.fit(X_train,y_train)\n",
        "      y_pred = model.predict(X_test)\n",
        "      accuracy += lossfunct(y_pred, y_test)\n",
        "      fscore += f1_score(y_pred, y_test)\n",
        "      roc+=roc_auc_score(y_pred,y_test)\n",
        "  print(name,\" Accuracy: \",accuracy/5, \"F-score: \", fscore/5,\"ROC_AUC:\", roc/5)"
      ],
      "execution_count": null,
      "outputs": [
        {
          "output_type": "stream",
          "text": [
            "KNeighborsClassifier  Accuracy:  0.8141458412272099 F-score:  0.7121240343740114 ROC_AUC: 0.8381451382407065\n",
            "DecisionTreeClassifier  Accuracy:  0.7966530183611289 F-score:  0.6782064608547658 ROC_AUC: 0.8144320221943259\n",
            "RandomForestClassifier  Accuracy:  0.8106343221620843 F-score:  0.7041769313082576 ROC_AUC: 0.8329992370681586\n",
            "LogisticRegression  Accuracy:  0.7934638068700385 F-score:  0.6962533629172004 ROC_AUC: 0.8545073988187358\n",
            "MLPClassifier  Accuracy:  0.7950157454866602 F-score:  0.6993846231677863 ROC_AUC: 0.8565071261350932\n",
            "AdaBoostClassifier  Accuracy:  0.8080145704945544 F-score:  0.712981674860125 ROC_AUC: 0.8532630570288167\n"
          ],
          "name": "stdout"
        }
      ]
    },
    {
      "cell_type": "markdown",
      "metadata": {
        "id": "2WgTAzujKz0m"
      },
      "source": [
        "LSTM Models"
      ]
    },
    {
      "cell_type": "code",
      "metadata": {
        "id": "3XF10RirSbMY"
      },
      "source": [
        "import numpy as np\n",
        "import matplotlib.pyplot as plt\n",
        "import torch\n",
        "import torchvision\n",
        "import torchvision.transforms as transforms\n",
        "from torch import nn\n",
        "import math\n",
        "import pickle\n",
        "import os\n",
        "from scipy.stats import rv_discrete\n",
        "from torch.autograd import Variable\n",
        "from torch.utils.data import TensorDataset, DataLoader"
      ],
      "execution_count": 282,
      "outputs": []
    },
    {
      "cell_type": "code",
      "metadata": {
        "id": "xQAWvffzm4rM"
      },
      "source": [
        "import numpy as np\n",
        "import pandas as pd\n",
        "from keras.models import Sequential\n",
        "from keras.layers import Dense, Embedding, LSTM, SpatialDropout1D\n",
        "from sklearn.model_selection import train_test_split\n",
        "from sklearn.feature_extraction.text import CountVectorizer\n",
        "from keras.preprocessing.text import Tokenizer\n",
        "from keras.preprocessing.sequence import pad_sequences\n",
        "from keras.utils.np_utils import to_categorical\n",
        "import re\n",
        "df = train"
      ],
      "execution_count": null,
      "outputs": []
    },
    {
      "cell_type": "code",
      "metadata": {
        "id": "-6sLmfConaon"
      },
      "source": [
        "tokenizer = Tokenizer(num_words=len(word_list), split=' ')\n",
        "tokenizer.fit_on_texts(x1)\n",
        "X = tokenizer.texts_to_sequences(x1)\n",
        "X = pad_sequences(X)"
      ],
      "execution_count": 300,
      "outputs": []
    },
    {
      "cell_type": "code",
      "metadata": {
        "id": "p4YfB9T2rEvC"
      },
      "source": [
        "trainloader=DataLoader(torch.tensor(X[:int(0.9*len(y))]),batch_size=500)\n",
        "ytrain=Ytensor[:int(0.9*len(y))]\n",
        "valloader=DataLoader(torch.tensor(X[int(0.9*len(y)):]),batch_size=500)\n",
        "ytest=Ytensor[int(0.9*len(y)):]"
      ],
      "execution_count": 388,
      "outputs": []
    },
    {
      "cell_type": "code",
      "metadata": {
        "colab": {
          "base_uri": "https://localhost:8080/"
        },
        "id": "lpbvCYpkrWKS",
        "outputId": "08be4f41-a1c9-4f08-c938-fbb9b192dfe6"
      },
      "source": [
        "np.shape(X)"
      ],
      "execution_count": 285,
      "outputs": [
        {
          "output_type": "execute_result",
          "data": {
            "text/plain": [
              "(11541, 85)"
            ]
          },
          "metadata": {
            "tags": []
          },
          "execution_count": 285
        }
      ]
    },
    {
      "cell_type": "code",
      "metadata": {
        "id": "WthmqWf6qvkV"
      },
      "source": [
        "class LSTM(nn.Module):\n",
        "  def __init__(self):\n",
        "    super(LSTM, self).__init__()\n",
        "    self.emb=nn.Embedding(len(word_list),50)\n",
        "    self.lstm = nn.LSTM(50,10)\n",
        "    self.layer2 = nn.Linear(10, 2)\n",
        "    \n",
        "  def forward(self, X):\n",
        "    X=self.emb(X)\n",
        "    hiddenstate=torch.zeros(1,X.size(1),10)\n",
        "    cellstate=torch.zeros(1,X.size(1),10)\n",
        "    out,(hs,cs) = self.lstm(X,(hiddenstate,cellstate)) \n",
        "    # print(out.size())\n",
        "    out = self.layer2(out[:,-1,:])\n",
        "    # print(out.size())\n",
        "    return out.reshape(-1,2)"
      ],
      "execution_count": 395,
      "outputs": []
    },
    {
      "cell_type": "code",
      "metadata": {
        "id": "8QbKJ9qbwrAU"
      },
      "source": [
        "Ytensor=torch.tensor(y)"
      ],
      "execution_count": 294,
      "outputs": []
    },
    {
      "cell_type": "code",
      "metadata": {
        "id": "EyQgAWd338xd"
      },
      "source": [
        "learning_rate = 3e-3\n",
        "epochs = 20\n",
        "criterion2 = nn.CrossEntropyLoss()"
      ],
      "execution_count": 396,
      "outputs": []
    },
    {
      "cell_type": "code",
      "metadata": {
        "id": "2eTJbCIK9Fsf"
      },
      "source": [
        "trainingloss_list = []\n",
        "validationloss_list = []\n",
        "validationaccuracy_list = []\n",
        "\n",
        "model2=LSTM()\n",
        "optimizer2 = torch.optim.Adam(model2.parameters(), lr=learning_rate)"
      ],
      "execution_count": 397,
      "outputs": []
    },
    {
      "cell_type": "code",
      "metadata": {
        "id": "HGt76R_rq0Bp",
        "colab": {
          "base_uri": "https://localhost:8080/"
        },
        "outputId": "216ba9cc-52b1-41e0-d2cd-4e8a950fb2cb"
      },
      "source": [
        "for epoch in range(epochs):\n",
        "  for i, data in enumerate(trainloader):\n",
        "    outputs = model2(data)\n",
        "    # print(outputs.size())\n",
        "    loss = criterion2(outputs, ytrain[i*500:i*500+500])\n",
        "    trainingloss_list.append(loss.item())\n",
        "    \n",
        "    optimizer2.zero_grad()\n",
        "    loss.backward()\n",
        "    optimizer2.step()\n",
        "    \n",
        "  iteration=0\n",
        "  tempvalloss=0\n",
        "  correctval=0    \n",
        "  \n",
        "  for i, data in enumerate(valloader):\n",
        "    outputs = model2(data)\n",
        "    # print(outputs.size())\n",
        "    loss = criterion2(outputs, ytest[i*500:i*500+500])\n",
        "    _, predicted = torch.max(outputs.data, 1)\n",
        "    correctval += (predicted == ytest[i*500:i*500+500]).sum().item()\n",
        "    iteration+=1\n",
        "    tempvalloss+=loss.item()\n",
        "      \n",
        "  validationloss_list.append(tempvalloss/iteration)\n",
        "  validationaccuracy_list.append(correctval/len(ytest)*100)\n",
        "  print('Epoch',epoch+1,'out of',epochs,'epochs are over')"
      ],
      "execution_count": 398,
      "outputs": [
        {
          "output_type": "stream",
          "text": [
            "Epoch 1 out of 20 epochs are over\n",
            "Epoch 2 out of 20 epochs are over\n",
            "Epoch 3 out of 20 epochs are over\n",
            "Epoch 4 out of 20 epochs are over\n",
            "Epoch 5 out of 20 epochs are over\n",
            "Epoch 6 out of 20 epochs are over\n",
            "Epoch 7 out of 20 epochs are over\n",
            "Epoch 8 out of 20 epochs are over\n",
            "Epoch 9 out of 20 epochs are over\n",
            "Epoch 10 out of 20 epochs are over\n",
            "Epoch 11 out of 20 epochs are over\n",
            "Epoch 12 out of 20 epochs are over\n",
            "Epoch 13 out of 20 epochs are over\n",
            "Epoch 14 out of 20 epochs are over\n",
            "Epoch 15 out of 20 epochs are over\n",
            "Epoch 16 out of 20 epochs are over\n",
            "Epoch 17 out of 20 epochs are over\n",
            "Epoch 18 out of 20 epochs are over\n",
            "Epoch 19 out of 20 epochs are over\n",
            "Epoch 20 out of 20 epochs are over\n"
          ],
          "name": "stdout"
        }
      ]
    },
    {
      "cell_type": "code",
      "metadata": {
        "colab": {
          "base_uri": "https://localhost:8080/",
          "height": 851
        },
        "id": "hq3htshDeDBL",
        "outputId": "806c2149-b379-49b3-b855-4edb1ab2fd8d"
      },
      "source": [
        "plt.figure(1)\n",
        "xtrainloss=np.arange(len(trainingloss_list))\n",
        "# plt.plot(xtrainloss,trainingloss_list,label=\"Unregularized\")\n",
        "plt.plot(xtrainloss,trainingloss_list,label=\"L2 Regularized\")\n",
        "plt.grid(b=True, which='major', color='#666666', linestyle='-')\n",
        "plt.minorticks_on()\n",
        "plt.grid(b=True, which='minor', color='#999999', linestyle='-', alpha=0.2)\n",
        "plt.legend()\n",
        "plt.xlabel('Iterations')\n",
        "plt.ylabel('Training Loss')\n",
        "plt.title('Training Loss vs Iterations')\n",
        "\n",
        "plt.figure(2)\n",
        "xvalloss=np.arange(len(validationloss_list))\n",
        "plt.plot(xvalloss,validationloss_list)\n",
        "plt.grid(b=True, which='major', color='#666666', linestyle='-')\n",
        "plt.minorticks_on()\n",
        "plt.grid(b=True, which='minor', color='#999999', linestyle='-', alpha=0.2)\n",
        "plt.xlabel('Epochs')\n",
        "plt.ylabel('Validation Loss')\n",
        "plt.title('Validation Loss vs Epochs')\n",
        "\n",
        "plt.figure(3)\n",
        "plt.plot(xvalloss,validationaccuracy_list)\n",
        "plt.grid(b=True, which='major', color='#666666', linestyle='-')\n",
        "plt.minorticks_on()\n",
        "plt.grid(b=True, which='minor', color='#999999', linestyle='-', alpha=0.2)\n",
        "plt.xlabel('Epochs')\n",
        "plt.ylabel('Validation Accuracy')\n",
        "plt.title('Validation Accuracy vs Epochs')\n",
        "\n",
        "plt.show()"
      ],
      "execution_count": 399,
      "outputs": [
        {
          "output_type": "display_data",
          "data": {
            "image/png": "[encoded data removed]",
            "text/plain": [
              "<Figure size 432x288 with 1 Axes>"
            ]
          },
          "metadata": {
            "tags": [],
            "needs_background": "light"
          }
        },
        {
          "output_type": "display_data",
          "data": {
            "image/png": "[encoded data removed]",
            "text/plain": [
              "<Figure size 432x288 with 1 Axes>"
            ]
          },
          "metadata": {
            "tags": [],
            "needs_background": "light"
          }
        },
        {
          "output_type": "display_data",
          "data": {
            "image/png": "[encoded data removed]",
            "text/plain": [
              "<Figure size 432x288 with 1 Axes>"
            ]
          },
          "metadata": {
            "tags": [],
            "needs_background": "light"
          }
        }
      ]
    },
    {
      "cell_type": "code",
      "metadata": {
        "colab": {
          "base_uri": "https://localhost:8080/"
        },
        "id": "CV5CbXOXBc9h",
        "outputId": "a0d64fcf-0a63-4238-803a-ad78513a01ca"
      },
      "source": [
        "with torch.no_grad():\n",
        "  outputs=model2(torch.tensor(X[int(0.9*len(y)):]))\n",
        "  _, predicted = torch.max(outputs.data, 1)\n",
        "  print(lossfunct(predicted,ytest))"
      ],
      "execution_count": 400,
      "outputs": [
        {
          "output_type": "stream",
          "text": [
            "tensor(0.7331)\n"
          ],
          "name": "stdout"
        }
      ]
    }
  ]
}